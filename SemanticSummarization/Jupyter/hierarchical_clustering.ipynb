{
 "cells": [
  {
   "cell_type": "code",
   "execution_count": 4,
   "metadata": {},
   "outputs": [],
   "source": [
    "from matplotlib import pyplot as plt\n",
    "from scipy.cluster.hierarchy import dendrogram, linkage\n",
    "import numpy as np"
   ]
  },
  {
   "cell_type": "code",
   "execution_count": 6,
   "metadata": {},
   "outputs": [],
   "source": [
    "%matplotlib inline\n",
    "np.set_printoptions(precision=5, suppress=True)  # suppress scientific float notation"
   ]
  },
  {
   "cell_type": "code",
   "execution_count": 8,
   "metadata": {},
   "outputs": [
    {
     "name": "stdout",
     "output_type": "stream",
     "text": [
      "(150, 2)\n"
     ]
    },
    {
     "data": {
      "image/png": "[encoded data removed]",
      "text/plain": [
       "<Figure size 432x288 with 1 Axes>"
      ]
     },
     "metadata": {},
     "output_type": "display_data"
    }
   ],
   "source": [
    "# generate two clusters: a with 100 points, b with 50:\n",
    "np.random.seed(4711)  # for repeatability of this tutorial\n",
    "a = np.random.multivariate_normal([10, 0], [[3, 1], [1, 4]], size=[100,])\n",
    "b = np.random.multivariate_normal([0, 20], [[3, 1], [1, 4]], size=[50,])\n",
    "X = np.concatenate((a, b),)\n",
    "print(X.shape)  # 150 samples with 2 dimensions\n",
    "plt.scatter(X[:,0], X[:,1])\n",
    "plt.show()"
   ]
  },
  {
   "cell_type": "code",
   "execution_count": 10,
   "metadata": {},
   "outputs": [
    {
     "name": "stdout",
     "output_type": "stream",
     "text": [
      "[[ 52.       53.        0.04151   2.     ]\n",
      " [ 14.       79.        0.05914   2.     ]\n",
      " [ 33.       68.        0.07107   2.     ]\n",
      " [ 17.       73.        0.07137   2.     ]\n",
      " [  1.        8.        0.07543   2.     ]\n",
      " [ 85.       95.        0.10928   2.     ]\n",
      " [108.      131.        0.11007   2.     ]\n",
      " [  9.       66.        0.11302   2.     ]\n",
      " [ 15.       69.        0.11429   2.     ]\n",
      " [ 63.       98.        0.1212    2.     ]\n",
      " [107.      115.        0.12167   2.     ]\n",
      " [ 65.       74.        0.1249    2.     ]\n",
      " [ 58.       61.        0.14028   2.     ]\n",
      " [ 62.      152.        0.1726    3.     ]\n",
      " [ 41.      158.        0.1779    3.     ]\n",
      " [ 10.       83.        0.18635   2.     ]\n",
      " [114.      139.        0.20419   2.     ]\n",
      " [ 39.       88.        0.20628   2.     ]\n",
      " [ 70.       96.        0.21931   2.     ]\n",
      " [ 46.       50.        0.22049   2.     ]\n",
      " [109.      113.        0.22499   2.     ]\n",
      " [ 31.       80.        0.23286   2.     ]\n",
      " [ 22.      150.        0.23608   3.     ]\n",
      " [ 28.       35.        0.24282   2.     ]\n",
      " [ 18.       34.        0.24839   2.     ]\n",
      " [105.      137.        0.25928   2.     ]\n",
      " [ 21.       71.        0.262     2.     ]\n",
      " [  3.       32.        0.26651   2.     ]\n",
      " [123.      145.        0.27191   2.     ]\n",
      " [ 11.       44.        0.2914    2.     ]\n",
      " [ 76.       99.        0.29709   2.     ]\n",
      " [ 47.       59.        0.29906   2.     ]\n",
      " [  5.       91.        0.3392    2.     ]\n",
      " [ 90.      181.        0.33976   3.     ]\n",
      " [124.      143.        0.34521   2.     ]\n",
      " [ 43.       55.        0.34593   2.     ]\n",
      " [ 51.       64.        0.34655   2.     ]\n",
      " [ 54.       97.        0.35581   2.     ]\n",
      " [  2.       93.        0.37556   2.     ]\n",
      " [100.      160.        0.38091   3.     ]\n",
      " [ 12.       78.        0.40147   2.     ]\n",
      " [118.      133.        0.4051    2.     ]\n",
      " [ 26.      167.        0.41213   3.     ]\n",
      " [ 82.      163.        0.41898   4.     ]\n",
      " [  0.      168.        0.42536   3.     ]\n",
      " [144.      156.        0.44317   3.     ]\n",
      " [130.      149.        0.44579   2.     ]\n",
      " [154.      164.        0.4601    5.     ]\n",
      " [ 29.       89.        0.47034   2.     ]\n",
      " [102.      147.        0.4713    2.     ]\n",
      " [ 86.      155.        0.47217   3.     ]\n",
      " [101.      134.        0.47825   2.     ]\n",
      " [ 19.      177.        0.48948   3.     ]\n",
      " [  6.       84.        0.49974   2.     ]\n",
      " [151.      173.        0.5052    4.     ]\n",
      " [ 45.       92.        0.52446   2.     ]\n",
      " [ 13.      165.        0.52623   3.     ]\n",
      " [110.      178.        0.5291    3.     ]\n",
      " [ 42.      202.        0.53388   4.     ]\n",
      " [153.      174.        0.53756   4.     ]\n",
      " [ 49.       75.        0.5812    2.     ]\n",
      " [106.      142.        0.59033   2.     ]\n",
      " [116.      136.        0.59151   2.     ]\n",
      " [175.      196.        0.59716   4.     ]\n",
      " [169.      176.        0.62949   4.     ]\n",
      " [ 56.      190.        0.64014   3.     ]\n",
      " [171.      198.        0.64371   4.     ]\n",
      " [111.      126.        0.65935   2.     ]\n",
      " [159.      193.        0.67665   6.     ]\n",
      " [157.      188.        0.71004   4.     ]\n",
      " [ 72.       94.        0.72996   2.     ]\n",
      " [ 81.      206.        0.748     4.     ]\n",
      " [ 16.       77.        0.75378   2.     ]\n",
      " [ 67.      192.        0.77247   4.     ]\n",
      " [112.      132.        0.79273   2.     ]\n",
      " [103.      122.        0.8106    2.     ]\n",
      " [119.      170.        0.81731   3.     ]\n",
      " [186.      205.        0.83284   4.     ]\n",
      " [148.      199.        0.85439   3.     ]\n",
      " [ 24.      162.        0.86511   3.     ]\n",
      " [135.      184.        0.87732   3.     ]\n",
      " [ 23.      179.        0.90927   3.     ]\n",
      " [ 30.      203.        0.912     3.     ]\n",
      " [ 87.      187.        0.92306   3.     ]\n",
      " [104.      191.        0.93716   3.     ]\n",
      " [121.      195.        0.97324   4.     ]\n",
      " [ 20.      210.        1.01209   3.     ]\n",
      " [ 37.       57.        1.01374   2.     ]\n",
      " [146.      226.        1.0306    4.     ]\n",
      " [172.      214.        1.03456   7.     ]\n",
      " [ 48.      209.        1.04092   5.     ]\n",
      " [189.      230.        1.05574   6.     ]\n",
      " [  7.       38.        1.08173   2.     ]\n",
      " [128.      166.        1.12389   3.     ]\n",
      " [117.      212.        1.15172   3.     ]\n",
      " [183.      200.        1.15312   6.     ]\n",
      " [ 25.      223.        1.17325   5.     ]\n",
      " [ 36.      180.        1.18423   3.     ]\n",
      " [185.      216.        1.19546   6.     ]\n",
      " [211.      224.        1.22482   4.     ]\n",
      " [140.      225.        1.32626   3.     ]\n",
      " [138.      207.        1.35046   4.     ]\n",
      " [161.      222.        1.49318   4.     ]\n",
      " [194.      197.        1.49619   8.     ]\n",
      " [220.      239.        1.59175   9.     ]\n",
      " [215.      231.        1.6701    6.     ]\n",
      " [129.      141.        1.6758    2.     ]\n",
      " [201.      251.        1.699     6.     ]\n",
      " [204.      240.        1.70929   9.     ]\n",
      " [ 27.       60.        1.75073   2.     ]\n",
      " [213.      228.        1.79407   7.     ]\n",
      " [227.      233.        1.84758   7.     ]\n",
      " [120.      234.        1.88067   4.     ]\n",
      " [208.      255.        1.92114  10.     ]\n",
      " [235.      249.        2.03403   8.     ]\n",
      " [219.      237.        2.15902   6.     ]\n",
      " [125.      250.        2.23528   4.     ]\n",
      " [232.      246.        2.26166   8.     ]\n",
      " [221.      245.        2.42437  10.     ]\n",
      " [241.      257.        2.46289  12.     ]\n",
      " [218.      253.        2.48409  14.     ]\n",
      " [229.      248.        2.61009   9.     ]\n",
      " [217.      244.        2.75678   5.     ]\n",
      " [127.      262.        2.83419   5.     ]\n",
      " [  4.      259.        3.10981   3.     ]\n",
      " [242.      261.        3.32706   9.     ]\n",
      " [236.      271.        3.48016  12.     ]\n",
      " [182.      267.        3.72097  10.     ]\n",
      " [247.      268.        3.83145  13.     ]\n",
      " [243.      260.        4.003    10.     ]\n",
      " [238.      256.        4.03585   6.     ]\n",
      " [264.      273.        4.11676  13.     ]\n",
      " [252.      265.        4.17761  10.     ]\n",
      " [254.      263.        5.05391  19.     ]\n",
      " [258.      276.        5.31023  21.     ]\n",
      " [269.      272.        6.20388  17.     ]\n",
      " [270.      283.        6.44512  33.     ]\n",
      " [279.      281.        6.5936   23.     ]\n",
      " [274.      275.        6.65622  12.     ]\n",
      " [ 40.      278.        7.11106  14.     ]\n",
      " [277.      288.        7.86879  22.     ]\n",
      " [266.      280.        8.04935  10.     ]\n",
      " [285.      291.        8.74822  27.     ]\n",
      " [282.      289.        9.84428  24.     ]\n",
      " [284.      286.       12.42735  54.     ]\n",
      " [290.      294.       15.11533  76.     ]\n",
      " [287.      292.       17.11527  50.     ]\n",
      " [293.      295.       23.12199 100.     ]\n",
      " [296.      297.      180.27043 150.     ]]\n"
     ]
    }
   ],
   "source": [
    "Z = linkage(X, 'ward')\n",
    "print(Z)"
   ]
  },
  {
   "cell_type": "code",
   "execution_count": 11,
   "metadata": {},
   "outputs": [
    {
     "data": {
      "text/plain": [
       "0.9800148387574268"
      ]
     },
     "execution_count": 11,
     "metadata": {},
     "output_type": "execute_result"
    }
   ],
   "source": [
    "from scipy.cluster.hierarchy import cophenet\n",
    "from scipy.spatial.distance import pdist\n",
    "\n",
    "c, coph_dists = cophenet(Z, pdist(X))\n",
    "c"
   ]
  },
  {
   "cell_type": "code",
   "execution_count": null,
   "metadata": {},
   "outputs": [],
   "source": []
  }
 ],
 "metadata": {
  "kernelspec": {
   "display_name": "Python 3",
   "language": "python",
   "name": "python3"
  },
  "language_info": {
   "codemirror_mode": {
    "name": "ipython",
    "version": 3
   },
   "file_extension": ".py",
   "mimetype": "text/x-python",
   "name": "python",
   "nbconvert_exporter": "python",
   "pygments_lexer": "ipython3",
   "version": "3.6.3"
  }
 },
 "nbformat": 4,
 "nbformat_minor": 1
}
